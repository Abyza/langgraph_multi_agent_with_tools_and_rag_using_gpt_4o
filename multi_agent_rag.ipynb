{
 "cells": [
  {
   "cell_type": "code",
   "execution_count": 1,
   "metadata": {},
   "outputs": [],
   "source": [
    "from pdf_rag import query_rag"
   ]
  },
  {
   "cell_type": "code",
   "execution_count": 2,
   "metadata": {},
   "outputs": [
    {
     "name": "stderr",
     "output_type": "stream",
     "text": [
      "INFO:httpx:HTTP Request: POST http://127.0.0.1:11434/api/pull \"HTTP/1.1 200 OK\"\n",
      "c:\\1_files\\ojt\\light_weight_solutions\\testing_chroma_db_install_python_10\\pdf_rag.py:56: LangChainDeprecationWarning: The class `Chroma` was deprecated in LangChain 0.2.9 and will be removed in 1.0. An updated version of the class exists in the :class:`~langchain-chroma package and should be used instead. To use it run `pip install -U :class:`~langchain-chroma` and import as `from :class:`~langchain_chroma import Chroma``.\n",
      "  vector_db = Chroma(\n",
      "INFO:chromadb.telemetry.product.posthog:Anonymized telemetry enabled. See                     https://docs.trychroma.com/telemetry for more information.\n",
      "INFO:root:Loaded existing vector database.\n",
      "INFO:root:Retriever created.\n",
      "INFO:root:Chain created successfully.\n",
      "INFO:httpx:HTTP Request: POST http://127.0.0.1:11434/api/chat \"HTTP/1.1 200 OK\"\n",
      "INFO:langchain.retrievers.multi_query:Generated queries: ['Here are five different versions of the original user question:', '1. What upcoming projects or initiatives can you share with us?', '2. Are there any future developments or updates that we should be aware of?', '3. Can you provide information on your current goals and objectives?', '4. What new products, services, or features can we expect from your organization?', \"5. Are there any upcoming events or milestones that you'd like to highlight?\"]\n",
      "INFO:httpx:HTTP Request: POST http://127.0.0.1:11434/api/embed \"HTTP/1.1 200 OK\"\n",
      "INFO:httpx:HTTP Request: POST http://127.0.0.1:11434/api/embed \"HTTP/1.1 200 OK\"\n",
      "INFO:httpx:HTTP Request: POST http://127.0.0.1:11434/api/embed \"HTTP/1.1 200 OK\"\n",
      "INFO:httpx:HTTP Request: POST http://127.0.0.1:11434/api/embed \"HTTP/1.1 200 OK\"\n",
      "INFO:httpx:HTTP Request: POST http://127.0.0.1:11434/api/embed \"HTTP/1.1 200 OK\"\n",
      "INFO:httpx:HTTP Request: POST http://127.0.0.1:11434/api/embed \"HTTP/1.1 200 OK\"\n",
      "INFO:httpx:HTTP Request: POST http://127.0.0.1:11434/api/chat \"HTTP/1.1 200 OK\"\n"
     ]
    },
    {
     "data": {
      "text/plain": [
       "'According to the document, NetFast offers three internet plans:\\n\\n1. Basic Plan - $29.99/month - Speed: 50 Mbps - Suitable for browsing and streaming\\n2. Standard Plan - $49.99/month - Speed: 150 Mbps - Great for families and work-from-home\\n3. Premium Plan - $79.99/month - Speed: 500 Mbps - Best for gaming and ultra-fast streaming'"
      ]
     },
     "execution_count": 2,
     "metadata": {},
     "output_type": "execute_result"
    }
   ],
   "source": [
    "query_rag(\"what is the plans\")"
   ]
  },
  {
   "cell_type": "code",
   "execution_count": 4,
   "metadata": {},
   "outputs": [],
   "source": [
    "import json\n",
    "# Load the JSON file\n",
    "file_path = \"monthly_expenses.json\"  # Replace with the correct path to your file\n",
    "with open(file_path, \"r\") as file:\n",
    "    data = json.load(file)\n",
    "\n",
    "monthly_expenses_json_string = json.dumps(data, indent=4) "
   ]
  },
  {
   "cell_type": "code",
   "execution_count": 8,
   "metadata": {},
   "outputs": [],
   "source": [
    "from langchain_ollama import ChatOllama\n",
    "from langgraph_supervisor import create_supervisor\n",
    "from langgraph.prebuilt import create_react_agent\n",
    "from langchain_openai import ChatOpenAI\n",
    "from dotenv import load_dotenv\n",
    "\n",
    "#MODEL_NAME = \"qwen2.5:7b-instruct\"\n",
    "#model = ChatOllama(model=MODEL_NAME, temperature=0.0)\n",
    "\n",
    "\n",
    "load_dotenv()\n",
    "model = ChatOpenAI(model=\"gpt-4o\", temperature=0.7)\n",
    "#model = ChatOpenAI(model=\"gpt-4o\")\n",
    "# Create specialized agents\n",
    "\n",
    "def add(a: float, b: float) -> float:\n",
    "    \"\"\"Add two numbers.\"\"\"\n",
    "    return a + b\n",
    "\n",
    "def multiply(a: float, b: float) -> float:\n",
    "    \"\"\"Multiply two numbers.\"\"\"\n",
    "    return a * b\n",
    "\n",
    "def web_search(query: str) -> str:\n",
    "    \"\"\"Search the web for information.\"\"\"\n",
    "    return (\n",
    "        \"Here are the headcounts for each of the FAANG companies in 2024:\\n\"\n",
    "        \"1. **Facebook (Meta)**: 67,317 employees.\\n\"\n",
    "        \"2. **Apple**: 164,000 employees.\\n\"\n",
    "        \"3. **Amazon**: 1,551,000 employees.\\n\"\n",
    "        \"4. **Netflix**: 14,000 employees.\\n\"\n",
    "        \"5. **Google (Alphabet)**: 181,269 employees.\"\n",
    "    )\n",
    "\n",
    "def rag_search(query: str) -> str:\n",
    "    \"\"\"Search the information about netfast internet company\"\"\"\n",
    "\n",
    "    rag_result = query_rag(query)\n",
    "    return (rag_result)\n",
    "\n",
    "math_agent = create_react_agent(\n",
    "    model=model,\n",
    "    tools=[add, multiply],\n",
    "    name=\"math_expert\",\n",
    "    prompt=\"You are a math expert. Always use one tool at a time.\"\n",
    ")\n",
    "\n",
    "research_agent = create_react_agent(\n",
    "    model=model,\n",
    "    tools=[web_search],\n",
    "    name=\"research_expert\",\n",
    "    prompt=\"You are a world class researcher with access to web search. Do not do any math.\"\n",
    ")\n",
    "\n",
    "report_agent = create_react_agent(\n",
    "    model=model,\n",
    "    tools=[],\n",
    "    name=\"report_expert\",\n",
    "    prompt=f\"You are a report expert. you can give reports based on this data:{monthly_expenses_json_string }\"\n",
    ")\n",
    "\n",
    "netfast_agent = create_react_agent(\n",
    "    model=model,\n",
    "    tools=[rag_search],\n",
    "    name=\"netfast_expert\",\n",
    "    prompt=f\"You are a netfast expert. you always use the tool rag_search\"\n",
    ")\n",
    "\n",
    "# Create supervisor workflow\n",
    "workflow = create_supervisor(\n",
    "    [research_agent, math_agent, report_agent, netfast_agent],\n",
    "    model=model,\n",
    "    prompt=(\n",
    "        \"You are a team supervisor managing a research expert and a math expert. \"\n",
    "        \"For current events, use research_agent. \"\n",
    "        \"For math problems, use math_agent.\"\n",
    "        \"For report queries, use report_agent.\"\n",
    "        \"For netfast queries, use netfast_agent.\"\n",
    "    ),\n",
    "    output_mode=\"full_history\"\n",
    ")\n",
    "\n"
   ]
  },
  {
   "cell_type": "code",
   "execution_count": 13,
   "metadata": {},
   "outputs": [
    {
     "data": {
      "text/plain": [
       "ChatOpenAI(client=<openai.resources.chat.completions.completions.Completions object at 0x0000024225D031C0>, async_client=<openai.resources.chat.completions.completions.AsyncCompletions object at 0x0000024225E488E0>, root_client=<openai.OpenAI object at 0x0000024225DE2560>, root_async_client=<openai.AsyncOpenAI object at 0x0000024224C52C20>, model_name='gpt-4o', temperature=0.7, model_kwargs={}, openai_api_key=SecretStr('**********'))"
      ]
     },
     "execution_count": 13,
     "metadata": {},
     "output_type": "execute_result"
    }
   ],
   "source": [
    "model "
   ]
  },
  {
   "cell_type": "code",
   "execution_count": 15,
   "metadata": {},
   "outputs": [],
   "source": [
    "# Compile and run\n",
    "app = workflow.compile()\n",
    "result = app.invoke({\n",
    "    \"messages\": [\n",
    "        {\n",
    "            \"role\": \"user\",\n",
    "            \"content\": \"give me the summary of the report, what is the average spending each parameter each year\"\n",
    "        }\n",
    "    ]\n",
    "})"
   ]
  },
  {
   "cell_type": "code",
   "execution_count": 16,
   "metadata": {},
   "outputs": [
    {
     "name": "stdout",
     "output_type": "stream",
     "text": [
      "================================\u001b[1m Human Message \u001b[0m=================================\n",
      "\n",
      "give me the summary of the report, what is the average spending each parameter each year\n",
      "==================================\u001b[1m Ai Message \u001b[0m==================================\n",
      "Name: supervisor\n",
      "Tool Calls:\n",
      "  transfer_to_report_expert (call_PowJ4PnzRnqxaRfU8O2mk8LL)\n",
      " Call ID: call_PowJ4PnzRnqxaRfU8O2mk8LL\n",
      "  Args:\n",
      "=================================\u001b[1m Tool Message \u001b[0m=================================\n",
      "Name: transfer_to_report_expert\n",
      "\n",
      "Successfully transferred to report_expert\n",
      "==================================\u001b[1m Ai Message \u001b[0m==================================\n",
      "Name: report_expert\n",
      "\n",
      "To summarize the report, let's calculate the average spending for each category (Food, Transpo, and Daily) for the years 2023 and 2024.\n",
      "\n",
      "### 2023:\n",
      "- **Food**: \n",
      "  - Total: 8000 + 7500 + 8500 + 8000 + 7800 + 8200 + 8500 + 8700 + 8100 + 8300 + 8600 + 9000 = 99200\n",
      "  - Average: 99200 / 12 = 8266.67\n",
      "\n",
      "- **Transpo**: \n",
      "  - Total: 2500 + 2300 + 2600 + 2400 + 2500 + 2600 + 2700 + 2800 + 2400 + 2500 + 2600 + 3000 = 30900\n",
      "  - Average: 30900 / 12 = 2575.00\n",
      "\n",
      "- **Daily**: \n",
      "  - Total: 1500 + 1400 + 1600 + 1500 + 1450 + 1500 + 1550 + 1600 + 1500 + 1550 + 1600 + 2000 = 18750\n",
      "  - Average: 18750 / 12 = 1562.50\n",
      "\n",
      "### 2024:\n",
      "- **Food**: \n",
      "  - Total: 8500 + 8000 + 8700 + 8500 + 8400 + 8600 + 8900 + 9200 + 8700 + 8800 + 9000 + 9500 = 103800\n",
      "  - Average: 103800 / 12 = 8650.00\n",
      "\n",
      "- **Transpo**: \n",
      "  - Total: 2600 + 2500 + 2700 + 2600 + 2650 + 2700 + 2800 + 2900 + 2600 + 2700 + 2800 + 3200 = 32750\n",
      "  - Average: 32750 / 12 = 2729.17\n",
      "\n",
      "- **Daily**: \n",
      "  - Total: 1700 + 1600 + 1750 + 1700 + 1650 + 1700 + 1750 + 1800 + 1700 + 1750 + 1800 + 2200 = 21100\n",
      "  - Average: 21100 / 12 = 1758.33\n",
      "\n",
      "In summary, the average spending for each category increased from 2023 to 2024.\n",
      "==================================\u001b[1m Ai Message \u001b[0m==================================\n",
      "Name: report_expert\n",
      "\n",
      "Transferring back to supervisor\n",
      "Tool Calls:\n",
      "  transfer_back_to_supervisor (2cf2baac-361f-4ff9-b0a7-bccbb96eeffd)\n",
      " Call ID: 2cf2baac-361f-4ff9-b0a7-bccbb96eeffd\n",
      "  Args:\n",
      "=================================\u001b[1m Tool Message \u001b[0m=================================\n",
      "Name: transfer_back_to_supervisor\n",
      "\n",
      "Successfully transferred back to supervisor\n",
      "==================================\u001b[1m Ai Message \u001b[0m==================================\n",
      "Name: supervisor\n",
      "\n",
      "The report summary shows the average spending for each category (Food, Transpo, and Daily) for the years 2023 and 2024 as follows:\n",
      "\n",
      "### 2023:\n",
      "- **Food**: Average spending was $8,266.67.\n",
      "- **Transpo**: Average spending was $2,575.00.\n",
      "- **Daily**: Average spending was $1,562.50.\n",
      "\n",
      "### 2024:\n",
      "- **Food**: Average spending was $8,650.00.\n",
      "- **Transpo**: Average spending was $2,729.17.\n",
      "- **Daily**: Average spending was $1,758.33.\n",
      "\n",
      "The data indicates an increase in average spending for each category from 2023 to 2024.\n"
     ]
    }
   ],
   "source": [
    "for m in result['messages']:\n",
    "    m.pretty_print()"
   ]
  },
  {
   "cell_type": "code",
   "execution_count": 9,
   "metadata": {},
   "outputs": [
    {
     "name": "stderr",
     "output_type": "stream",
     "text": [
      "INFO:httpx:HTTP Request: POST https://api.openai.com/v1/chat/completions \"HTTP/1.1 200 OK\"\n"
     ]
    },
    {
     "name": "stdout",
     "output_type": "stream",
     "text": [
      "{'supervisor': {'messages': [HumanMessage(content='how can i code  a python list vs a c# list', additional_kwargs={}, response_metadata={}, id='084f8277-3f26-422e-92f5-5a5e7341a00a'), AIMessage(content=\"Here's a comparison of how lists are coded and used in Python versus C#:\\n\\n### Python List\\n\\nIn Python, a list is a built-in data type that can store a collection of items. Lists are dynamic, meaning they can grow and shrink as needed. They are also heterogeneous, meaning they can store items of different types.\\n\\n```python\\n# Creating a list in Python\\nmy_list = [1, 2, 3, 4, 5]\\n\\n# Adding elements\\nmy_list.append(6)\\n\\n# Accessing elements\\nfirst_element = my_list[0]  # 1\\n\\n# Removing elements\\nmy_list.remove(3)\\n\\n# Length of the list\\nlength = len(my_list)\\n\\n# Iterating over the list\\nfor item in my_list:\\n    print(item)\\n```\\n\\n### C# List\\n\\nIn C#, a list is part of the `System.Collections.Generic` namespace and is implemented as `List<T>`, where `T` is the type of elements in the list. Lists in C# are also dynamic but are homogeneous, meaning all elements must be of the same type.\\n\\n```csharp\\nusing System;\\nusing System.Collections.Generic;\\n\\nclass Program\\n{\\n    static void Main()\\n    {\\n        // Creating a list in C#\\n        List<int> myList = new List<int> { 1, 2, 3, 4, 5 };\\n\\n        // Adding elements\\n        myList.Add(6);\\n\\n        // Accessing elements\\n        int firstElement = myList[0];  // 1\\n\\n        // Removing elements\\n        myList.Remove(3);\\n\\n        // Length of the list\\n        int length = myList.Count;\\n\\n        // Iterating over the list\\n        foreach (int item in myList)\\n        {\\n            Console.WriteLine(item);\\n        }\\n    }\\n}\\n```\\n\\n### Key Differences\\n\\n1. **Syntax**: Python uses a more straightforward syntax, while C# requires defining the type of list elements.\\n2. **Typing**: Python lists are heterogeneous, whereas C# lists are homogeneous (defined by `List<T>` where `T` specifies the type).\\n3. **Functions/Methods**: The methods available for manipulating lists differ between the two languages.\\n4. **Namespaces**: C# requires importing the `System.Collections.Generic` namespace for lists, whereas Python lists are built-in.\\n\\nUnderstanding these differences can help you effectively work with lists in both languages.\", additional_kwargs={'refusal': None}, response_metadata={'token_usage': {'completion_tokens': 499, 'prompt_tokens': 169, 'total_tokens': 668, 'completion_tokens_details': {'accepted_prediction_tokens': 0, 'audio_tokens': 0, 'reasoning_tokens': 0, 'rejected_prediction_tokens': 0}, 'prompt_tokens_details': {'audio_tokens': 0, 'cached_tokens': 0}}, 'model_name': 'gpt-4o-2024-08-06', 'system_fingerprint': 'fp_6dd05565ef', 'id': 'chatcmpl-BJzLxy5prv9YW0B4ysjtUDc6B2Nze', 'finish_reason': 'stop', 'logprobs': None}, name='supervisor', id='run-086cd968-818a-4d01-9dde-df363426cca1-0', usage_metadata={'input_tokens': 169, 'output_tokens': 499, 'total_tokens': 668, 'input_token_details': {'audio': 0, 'cache_read': 0}, 'output_token_details': {'audio': 0, 'reasoning': 0}})]}}\n"
     ]
    }
   ],
   "source": [
    "app = workflow.compile()\n",
    "\n",
    "# Collect all steps\n",
    "data = 1\n",
    "for step in app.stream({\n",
    "    \"messages\": [\n",
    "        {\n",
    "            \"role\": \"user\",\n",
    "            \"content\": \"how can i code  a python list vs a c# list\"\n",
    "        }\n",
    "    ]\n",
    "}):\n",
    "    print(step) \n",
    "    data = step       # Live output\n",
    "    "
   ]
  },
  {
   "cell_type": "code",
   "execution_count": 10,
   "metadata": {},
   "outputs": [
    {
     "name": "stdout",
     "output_type": "stream",
     "text": [
      "================================\u001b[1m Human Message \u001b[0m=================================\n",
      "\n",
      "how can i code  a python list vs a c# list\n",
      "==================================\u001b[1m Ai Message \u001b[0m==================================\n",
      "Name: supervisor\n",
      "\n",
      "Here's a comparison of how lists are coded and used in Python versus C#:\n",
      "\n",
      "### Python List\n",
      "\n",
      "In Python, a list is a built-in data type that can store a collection of items. Lists are dynamic, meaning they can grow and shrink as needed. They are also heterogeneous, meaning they can store items of different types.\n",
      "\n",
      "```python\n",
      "# Creating a list in Python\n",
      "my_list = [1, 2, 3, 4, 5]\n",
      "\n",
      "# Adding elements\n",
      "my_list.append(6)\n",
      "\n",
      "# Accessing elements\n",
      "first_element = my_list[0]  # 1\n",
      "\n",
      "# Removing elements\n",
      "my_list.remove(3)\n",
      "\n",
      "# Length of the list\n",
      "length = len(my_list)\n",
      "\n",
      "# Iterating over the list\n",
      "for item in my_list:\n",
      "    print(item)\n",
      "```\n",
      "\n",
      "### C# List\n",
      "\n",
      "In C#, a list is part of the `System.Collections.Generic` namespace and is implemented as `List<T>`, where `T` is the type of elements in the list. Lists in C# are also dynamic but are homogeneous, meaning all elements must be of the same type.\n",
      "\n",
      "```csharp\n",
      "using System;\n",
      "using System.Collections.Generic;\n",
      "\n",
      "class Program\n",
      "{\n",
      "    static void Main()\n",
      "    {\n",
      "        // Creating a list in C#\n",
      "        List<int> myList = new List<int> { 1, 2, 3, 4, 5 };\n",
      "\n",
      "        // Adding elements\n",
      "        myList.Add(6);\n",
      "\n",
      "        // Accessing elements\n",
      "        int firstElement = myList[0];  // 1\n",
      "\n",
      "        // Removing elements\n",
      "        myList.Remove(3);\n",
      "\n",
      "        // Length of the list\n",
      "        int length = myList.Count;\n",
      "\n",
      "        // Iterating over the list\n",
      "        foreach (int item in myList)\n",
      "        {\n",
      "            Console.WriteLine(item);\n",
      "        }\n",
      "    }\n",
      "}\n",
      "```\n",
      "\n",
      "### Key Differences\n",
      "\n",
      "1. **Syntax**: Python uses a more straightforward syntax, while C# requires defining the type of list elements.\n",
      "2. **Typing**: Python lists are heterogeneous, whereas C# lists are homogeneous (defined by `List<T>` where `T` specifies the type).\n",
      "3. **Functions/Methods**: The methods available for manipulating lists differ between the two languages.\n",
      "4. **Namespaces**: C# requires importing the `System.Collections.Generic` namespace for lists, whereas Python lists are built-in.\n",
      "\n",
      "Understanding these differences can help you effectively work with lists in both languages.\n"
     ]
    }
   ],
   "source": [
    "for m in data['supervisor']['messages']:\n",
    "    m.pretty_print()"
   ]
  }
 ],
 "metadata": {
  "kernelspec": {
   "display_name": ".venv",
   "language": "python",
   "name": "python3"
  },
  "language_info": {
   "codemirror_mode": {
    "name": "ipython",
    "version": 3
   },
   "file_extension": ".py",
   "mimetype": "text/x-python",
   "name": "python",
   "nbconvert_exporter": "python",
   "pygments_lexer": "ipython3",
   "version": "3.10.11"
  }
 },
 "nbformat": 4,
 "nbformat_minor": 2
}
