{
 "cells": [
  {
   "cell_type": "code",
   "execution_count": 1,
   "metadata": {},
   "outputs": [],
   "source": [
    "from pdf_rag import query_rag"
   ]
  },
  {
   "cell_type": "code",
   "execution_count": 6,
   "metadata": {},
   "outputs": [
    {
     "name": "stdout",
     "output_type": "stream",
     "text": [
      "3.10.11 (tags/v3.10.11:7d4cc5a, Apr  5 2023, 00:38:17) [MSC v.1929 64 bit (AMD64)]\n"
     ]
    }
   ],
   "source": [
    "import sys\n",
    "print(sys.version)"
   ]
  },
  {
   "cell_type": "code",
   "execution_count": 2,
   "metadata": {},
   "outputs": [
    {
     "name": "stderr",
     "output_type": "stream",
     "text": [
      "INFO:httpx:HTTP Request: POST http://127.0.0.1:11434/api/pull \"HTTP/1.1 200 OK\"\n",
      "c:\\1_files\\ojt\\light_weight_solutions\\langgraph_multi_agent_with_tools_and_rag_using_gpt_4o\\pdf_rag.py:56: LangChainDeprecationWarning: The class `Chroma` was deprecated in LangChain 0.2.9 and will be removed in 1.0. An updated version of the class exists in the :class:`~langchain-chroma package and should be used instead. To use it run `pip install -U :class:`~langchain-chroma` and import as `from :class:`~langchain_chroma import Chroma``.\n",
      "  vector_db = Chroma(\n",
      "INFO:chromadb.telemetry.product.posthog:Anonymized telemetry enabled. See                     https://docs.trychroma.com/telemetry for more information.\n",
      "INFO:root:Loaded existing vector database.\n",
      "INFO:root:Retriever created.\n",
      "INFO:root:Chain created successfully.\n",
      "INFO:httpx:HTTP Request: POST http://127.0.0.1:11434/api/chat \"HTTP/1.1 200 OK\"\n",
      "INFO:langchain.retrievers.multi_query:Generated queries: ['Here are five different versions of the original question \"what is the plan\" to retrieve relevant documents from a vector database:', '1. What are the upcoming strategies?', '2. Can you provide an overview of current initiatives?', '3. What are the key objectives for the next phase?', '4. Are there any new projects on the horizon that I should be aware of?', '5. What are the immediate goals and priorities?', 'These alternative questions aim to capture different aspects of the original query, such as:', '* Using synonyms (strategies, initiatives, objectives) to broaden the search', '* Adding context (upcoming, current, next phase) to refine the search', '* Emphasizing specific areas of interest (projects, goals, priorities)', \"* Changing the tone and wording to better match the user's intent\", 'By generating multiple perspectives on the user question, we can increase the chances of retrieving relevant documents from the vector database.']\n",
      "INFO:httpx:HTTP Request: POST http://127.0.0.1:11434/api/embed \"HTTP/1.1 200 OK\"\n",
      "INFO:httpx:HTTP Request: POST http://127.0.0.1:11434/api/embed \"HTTP/1.1 200 OK\"\n",
      "INFO:httpx:HTTP Request: POST http://127.0.0.1:11434/api/embed \"HTTP/1.1 200 OK\"\n",
      "INFO:httpx:HTTP Request: POST http://127.0.0.1:11434/api/embed \"HTTP/1.1 200 OK\"\n",
      "INFO:httpx:HTTP Request: POST http://127.0.0.1:11434/api/embed \"HTTP/1.1 200 OK\"\n",
      "INFO:httpx:HTTP Request: POST http://127.0.0.1:11434/api/embed \"HTTP/1.1 200 OK\"\n",
      "INFO:httpx:HTTP Request: POST http://127.0.0.1:11434/api/embed \"HTTP/1.1 200 OK\"\n",
      "INFO:httpx:HTTP Request: POST http://127.0.0.1:11434/api/embed \"HTTP/1.1 200 OK\"\n",
      "INFO:httpx:HTTP Request: POST http://127.0.0.1:11434/api/embed \"HTTP/1.1 200 OK\"\n",
      "INFO:httpx:HTTP Request: POST http://127.0.0.1:11434/api/embed \"HTTP/1.1 200 OK\"\n",
      "INFO:httpx:HTTP Request: POST http://127.0.0.1:11434/api/embed \"HTTP/1.1 200 OK\"\n",
      "INFO:httpx:HTTP Request: POST http://127.0.0.1:11434/api/embed \"HTTP/1.1 200 OK\"\n",
      "INFO:httpx:HTTP Request: POST http://127.0.0.1:11434/api/chat \"HTTP/1.1 200 OK\"\n"
     ]
    },
    {
     "data": {
      "text/plain": [
       "'According to the provided context, NetFast offers three internet plans:\\n\\n1. Basic Plan - $29.99/month - Speed: 50 Mbps - Suitable for browsing and streaming\\n2. Standard Plan - $49.99/month - Speed: 150 Mbps - Great for families and work-from-home\\n3. Premium Plan - $79.99/month - Speed: 500 Mbps - Best for gaming and ultra-fast streaming'"
      ]
     },
     "execution_count": 2,
     "metadata": {},
     "output_type": "execute_result"
    }
   ],
   "source": [
    "query_rag(\"what is the plans\")"
   ]
  },
  {
   "cell_type": "code",
   "execution_count": 3,
   "metadata": {},
   "outputs": [],
   "source": [
    "import json\n",
    "# Load the JSON file\n",
    "file_path = \"monthly_expenses.json\"  # Replace with the correct path to your file\n",
    "with open(file_path, \"r\") as file:\n",
    "    data = json.load(file)\n",
    "\n",
    "monthly_expenses_json_string = json.dumps(data, indent=4) "
   ]
  },
  {
   "cell_type": "code",
   "execution_count": 4,
   "metadata": {},
   "outputs": [],
   "source": [
    "from langchain_ollama import ChatOllama\n",
    "from langgraph_supervisor import create_supervisor\n",
    "from langgraph.prebuilt import create_react_agent\n",
    "from langchain_openai import ChatOpenAI\n",
    "from dotenv import load_dotenv\n",
    "\n",
    "#MODEL_NAME = \"qwen2.5:7b-instruct\"\n",
    "#model = ChatOllama(model=MODEL_NAME, temperature=0.0)\n",
    "\n",
    "\n",
    "load_dotenv()\n",
    "model = ChatOpenAI(model=\"gpt-4o\", temperature=0.7)\n",
    "#model = ChatOpenAI(model=\"gpt-4o\")\n",
    "# Create specialized agents\n",
    "\n",
    "def add(a: float, b: float) -> float:\n",
    "    \"\"\"Add two numbers.\"\"\"\n",
    "    return a + b\n",
    "\n",
    "def multiply(a: float, b: float) -> float:\n",
    "    \"\"\"Multiply two numbers.\"\"\"\n",
    "    return a * b\n",
    "\n",
    "def web_search(query: str) -> str:\n",
    "    \"\"\"Search the web for information.\"\"\"\n",
    "    return (\n",
    "        \"Here are the headcounts for each of the FAANG companies in 2024:\\n\"\n",
    "        \"1. **Facebook (Meta)**: 67,317 employees.\\n\"\n",
    "        \"2. **Apple**: 164,000 employees.\\n\"\n",
    "        \"3. **Amazon**: 1,551,000 employees.\\n\"\n",
    "        \"4. **Netflix**: 14,000 employees.\\n\"\n",
    "        \"5. **Google (Alphabet)**: 181,269 employees.\"\n",
    "    )\n",
    "\n",
    "def rag_search(query: str) -> str:\n",
    "    \"\"\"Search the information about netfast internet company\"\"\"\n",
    "\n",
    "    rag_result = query_rag(query)\n",
    "    return (rag_result)\n",
    "\n",
    "math_agent = create_react_agent(\n",
    "    model=model,\n",
    "    tools=[add, multiply],\n",
    "    name=\"math_expert\",\n",
    "    prompt=\"You are a math expert. Always use one tool at a time.\"\n",
    ")\n",
    "\n",
    "research_agent = create_react_agent(\n",
    "    model=model,\n",
    "    tools=[web_search],\n",
    "    name=\"research_expert\",\n",
    "    prompt=\"You are a world class researcher with access to web search. Do not do any math.\"\n",
    ")\n",
    "\n",
    "report_agent = create_react_agent(\n",
    "    model=model,\n",
    "    tools=[],\n",
    "    name=\"report_expert\",\n",
    "    prompt=f\"You are a report expert. you can give reports based on this data:{monthly_expenses_json_string }\"\n",
    ")\n",
    "\n",
    "netfast_agent = create_react_agent(\n",
    "    model=model,\n",
    "    tools=[rag_search],\n",
    "    name=\"netfast_expert\",\n",
    "    prompt=f\"You are a netfast expert. you always use the tool rag_search\"\n",
    ")\n",
    "\n",
    "# Create supervisor workflow\n",
    "workflow = create_supervisor(\n",
    "    [research_agent, math_agent, report_agent, netfast_agent],\n",
    "    model=model,\n",
    "    prompt=(\n",
    "        \"You are a team supervisor managing a research expert and a math expert. \"\n",
    "        \"For current events, use research_agent. \"\n",
    "        \"For math problems, use math_agent.\"\n",
    "        \"For report queries, use report_agent.\"\n",
    "        \"For netfast queries, use netfast_agent.\"\n",
    "    ),\n",
    "    output_mode=\"full_history\"\n",
    ")\n",
    "\n"
   ]
  },
  {
   "cell_type": "code",
   "execution_count": 7,
   "metadata": {},
   "outputs": [
    {
     "data": {
      "text/plain": [
       "ChatOpenAI(client=<openai.resources.chat.completions.completions.Completions object at 0x0000023EA65B0850>, async_client=<openai.resources.chat.completions.completions.AsyncCompletions object at 0x0000023EB5486D40>, root_client=<openai.OpenAI object at 0x0000023EB546F7F0>, root_async_client=<openai.AsyncOpenAI object at 0x0000023EAFF2CC40>, model_name='gpt-4o', temperature=0.7, model_kwargs={}, openai_api_key=SecretStr('**********'))"
      ]
     },
     "execution_count": 7,
     "metadata": {},
     "output_type": "execute_result"
    }
   ],
   "source": [
    "model "
   ]
  },
  {
   "cell_type": "code",
   "execution_count": 5,
   "metadata": {},
   "outputs": [
    {
     "name": "stderr",
     "output_type": "stream",
     "text": [
      "INFO:httpx:HTTP Request: POST https://api.openai.com/v1/chat/completions \"HTTP/1.1 200 OK\"\n",
      "INFO:httpx:HTTP Request: POST https://api.openai.com/v1/chat/completions \"HTTP/1.1 200 OK\"\n",
      "INFO:httpx:HTTP Request: POST https://api.openai.com/v1/chat/completions \"HTTP/1.1 200 OK\"\n"
     ]
    }
   ],
   "source": [
    "# Compile and run\n",
    "app = workflow.compile()\n",
    "result = app.invoke({\n",
    "    \"messages\": [\n",
    "        {\n",
    "            \"role\": \"user\",\n",
    "            \"content\": \"give me the summary of the report, what is the average spending each parameter each year\"\n",
    "        }\n",
    "    ]\n",
    "})"
   ]
  },
  {
   "cell_type": "code",
   "execution_count": 9,
   "metadata": {},
   "outputs": [
    {
     "name": "stdout",
     "output_type": "stream",
     "text": [
      "================================\u001b[1m Human Message \u001b[0m=================================\n",
      "\n",
      "give me the summary of the report, what is the average spending each parameter each year\n",
      "==================================\u001b[1m Ai Message \u001b[0m==================================\n",
      "Name: supervisor\n",
      "Tool Calls:\n",
      "  transfer_to_report_expert (call_Gzrcp6RNIVDHc8HUEG6E9Thv)\n",
      " Call ID: call_Gzrcp6RNIVDHc8HUEG6E9Thv\n",
      "  Args:\n",
      "=================================\u001b[1m Tool Message \u001b[0m=================================\n",
      "Name: transfer_to_report_expert\n",
      "\n",
      "Successfully transferred to report_expert\n",
      "==================================\u001b[1m Ai Message \u001b[0m==================================\n",
      "Name: report_expert\n",
      "\n",
      "To calculate the average spending for each parameter (Food, Transpo, Daily) for each year, we can sum the monthly values for each parameter and then divide by the number of months (12) in each year. Here is the summary:\n",
      "\n",
      "### 2023\n",
      "- **Food**\n",
      "  - Total: \\(8000 + 7500 + 8500 + 8000 + 7800 + 8200 + 8500 + 8700 + 8100 + 8300 + 8600 + 9000 = 99200\\)\n",
      "  - Average: \\(99200 / 12 = 8266.67\\)\n",
      "\n",
      "- **Transpo**\n",
      "  - Total: \\(2500 + 2300 + 2600 + 2400 + 2500 + 2600 + 2700 + 2800 + 2400 + 2500 + 2600 + 3000 = 30900\\)\n",
      "  - Average: \\(30900 / 12 = 2575\\)\n",
      "\n",
      "- **Daily**\n",
      "  - Total: \\(1500 + 1400 + 1600 + 1500 + 1450 + 1500 + 1550 + 1600 + 1500 + 1550 + 1600 + 2000 = 18750\\)\n",
      "  - Average: \\(18750 / 12 = 1562.5\\)\n",
      "\n",
      "### 2024\n",
      "- **Food**\n",
      "  - Total: \\(8500 + 8000 + 8700 + 8500 + 8400 + 8600 + 8900 + 9200 + 8700 + 8800 + 9000 + 9500 = 103800\\)\n",
      "  - Average: \\(103800 / 12 = 8650\\)\n",
      "\n",
      "- **Transpo**\n",
      "  - Total: \\(2600 + 2500 + 2700 + 2600 + 2650 + 2700 + 2800 + 2900 + 2600 + 2700 + 2800 + 3200 = 32750\\)\n",
      "  - Average: \\(32750 / 12 = 2729.17\\)\n",
      "\n",
      "- **Daily**\n",
      "  - Total: \\(1700 + 1600 + 1750 + 1700 + 1650 + 1700 + 1750 + 1800 + 1700 + 1750 + 1800 + 2200 = 21100\\)\n",
      "  - Average: \\(21100 / 12 = 1758.33\\)\n",
      "\n",
      "These averages provide an overview of the spending trends for each category over the two years.\n",
      "==================================\u001b[1m Ai Message \u001b[0m==================================\n",
      "Name: report_expert\n",
      "\n",
      "Transferring back to supervisor\n",
      "Tool Calls:\n",
      "  transfer_back_to_supervisor (06512e72-0d9b-45c8-9caa-fa137e5f1c43)\n",
      " Call ID: 06512e72-0d9b-45c8-9caa-fa137e5f1c43\n",
      "  Args:\n",
      "=================================\u001b[1m Tool Message \u001b[0m=================================\n",
      "Name: transfer_back_to_supervisor\n",
      "\n",
      "Successfully transferred back to supervisor\n",
      "==================================\u001b[1m Ai Message \u001b[0m==================================\n",
      "Name: supervisor\n",
      "\n",
      "The report summary for average spending per parameter each year is as follows:\n",
      "\n",
      "### 2023\n",
      "- **Food**: Average spending is $8,266.67\n",
      "- **Transpo**: Average spending is $2,575\n",
      "- **Daily**: Average spending is $1,562.50\n",
      "\n",
      "### 2024\n",
      "- **Food**: Average spending is $8,650\n",
      "- **Transpo**: Average spending is $2,729.17\n",
      "- **Daily**: Average spending is $1,758.33\n",
      "\n",
      "These figures represent the annual average spending for each category over the respective years.\n"
     ]
    }
   ],
   "source": [
    "for m in result['messages']:\n",
    "    m.pretty_print()"
   ]
  },
  {
   "cell_type": "code",
   "execution_count": 10,
   "metadata": {},
   "outputs": [
    {
     "name": "stderr",
     "output_type": "stream",
     "text": [
      "INFO:httpx:HTTP Request: POST https://api.openai.com/v1/chat/completions \"HTTP/1.1 200 OK\"\n"
     ]
    },
    {
     "name": "stdout",
     "output_type": "stream",
     "text": [
      "{'supervisor': {'messages': [HumanMessage(content='WHAT ARE THE AVAILABLE PLANS', additional_kwargs={}, response_metadata={}, id='6ef34942-060a-470c-ac64-7214f935a901'), AIMessage(content='', additional_kwargs={'tool_calls': [{'id': 'call_cmiEuruOXvk4aglJaZ3YIItN', 'function': {'arguments': '{}', 'name': 'transfer_to_netfast_expert'}, 'type': 'function'}], 'refusal': None}, response_metadata={'token_usage': {'completion_tokens': 15, 'prompt_tokens': 162, 'total_tokens': 177, 'completion_tokens_details': {'accepted_prediction_tokens': 0, 'audio_tokens': 0, 'reasoning_tokens': 0, 'rejected_prediction_tokens': 0}, 'prompt_tokens_details': {'audio_tokens': 0, 'cached_tokens': 0}}, 'model_name': 'gpt-4o-2024-08-06', 'system_fingerprint': 'fp_b7faba9ef5', 'id': 'chatcmpl-BKyeYTOMwQQ8B4nd6v4V5ZC8oG86K', 'finish_reason': 'tool_calls', 'logprobs': None}, name='supervisor', id='run-95d133e9-a705-48ae-b753-cab1082b1a72-0', tool_calls=[{'name': 'transfer_to_netfast_expert', 'args': {}, 'id': 'call_cmiEuruOXvk4aglJaZ3YIItN', 'type': 'tool_call'}], usage_metadata={'input_tokens': 162, 'output_tokens': 15, 'total_tokens': 177, 'input_token_details': {'audio': 0, 'cache_read': 0}, 'output_token_details': {'audio': 0, 'reasoning': 0}}), ToolMessage(content='Successfully transferred to netfast_expert', name='transfer_to_netfast_expert', id='4162cc1b-5d01-42e5-9dce-692caf0c339b', tool_call_id='call_cmiEuruOXvk4aglJaZ3YIItN')]}}\n"
     ]
    },
    {
     "name": "stderr",
     "output_type": "stream",
     "text": [
      "INFO:httpx:HTTP Request: POST https://api.openai.com/v1/chat/completions \"HTTP/1.1 200 OK\"\n",
      "INFO:httpx:HTTP Request: POST http://127.0.0.1:11434/api/pull \"HTTP/1.1 200 OK\"\n",
      "c:\\1_files\\ojt\\light_weight_solutions\\langgraph_multi_agent_with_tools_and_rag_using_gpt_4o\\pdf_rag.py:56: LangChainDeprecationWarning: The class `Chroma` was deprecated in LangChain 0.2.9 and will be removed in 1.0. An updated version of the class exists in the :class:`~langchain-chroma package and should be used instead. To use it run `pip install -U :class:`~langchain-chroma` and import as `from :class:`~langchain_chroma import Chroma``.\n",
      "  vector_db = Chroma(\n",
      "INFO:root:Loaded existing vector database.\n",
      "INFO:root:Retriever created.\n",
      "INFO:root:Chain created successfully.\n",
      "INFO:httpx:HTTP Request: POST http://127.0.0.1:11434/api/chat \"HTTP/1.1 200 OK\"\n",
      "INFO:langchain.retrievers.multi_query:Generated queries: ['Here are five different versions of the original question:', '1. What are the current internet plans offered by Netfast?', '2. Can you please provide a list of available internet services from Netfast, including their prices and features?', \"3. Is there a range of data speeds available for Netfast's internet plans, such as 100 Mbps or 500 Mbps?\", '4. Do Netfast offer any promotional or bundled plans that include additional services like TV or voice?', '5. Are there any limitations on the number of devices that can be connected to a single Netfast internet plan, and what is the maximum data allowance per month?']\n",
      "INFO:httpx:HTTP Request: POST http://127.0.0.1:11434/api/embed \"HTTP/1.1 200 OK\"\n",
      "INFO:httpx:HTTP Request: POST http://127.0.0.1:11434/api/embed \"HTTP/1.1 200 OK\"\n",
      "INFO:httpx:HTTP Request: POST http://127.0.0.1:11434/api/embed \"HTTP/1.1 200 OK\"\n",
      "INFO:httpx:HTTP Request: POST http://127.0.0.1:11434/api/embed \"HTTP/1.1 200 OK\"\n",
      "INFO:httpx:HTTP Request: POST http://127.0.0.1:11434/api/embed \"HTTP/1.1 200 OK\"\n",
      "INFO:httpx:HTTP Request: POST http://127.0.0.1:11434/api/embed \"HTTP/1.1 200 OK\"\n",
      "INFO:httpx:HTTP Request: POST http://127.0.0.1:11434/api/chat \"HTTP/1.1 200 OK\"\n",
      "INFO:httpx:HTTP Request: POST https://api.openai.com/v1/chat/completions \"HTTP/1.1 200 OK\"\n"
     ]
    },
    {
     "name": "stdout",
     "output_type": "stream",
     "text": [
      "{'netfast_expert': {'messages': [HumanMessage(content='WHAT ARE THE AVAILABLE PLANS', additional_kwargs={}, response_metadata={}, id='6ef34942-060a-470c-ac64-7214f935a901'), AIMessage(content='', additional_kwargs={'tool_calls': [{'id': 'call_cmiEuruOXvk4aglJaZ3YIItN', 'function': {'arguments': '{}', 'name': 'transfer_to_netfast_expert'}, 'type': 'function'}], 'refusal': None}, response_metadata={'token_usage': {'completion_tokens': 15, 'prompt_tokens': 162, 'total_tokens': 177, 'completion_tokens_details': {'accepted_prediction_tokens': 0, 'audio_tokens': 0, 'reasoning_tokens': 0, 'rejected_prediction_tokens': 0}, 'prompt_tokens_details': {'audio_tokens': 0, 'cached_tokens': 0}}, 'model_name': 'gpt-4o-2024-08-06', 'system_fingerprint': 'fp_b7faba9ef5', 'id': 'chatcmpl-BKyeYTOMwQQ8B4nd6v4V5ZC8oG86K', 'finish_reason': 'tool_calls', 'logprobs': None}, name='supervisor', id='run-95d133e9-a705-48ae-b753-cab1082b1a72-0', tool_calls=[{'name': 'transfer_to_netfast_expert', 'args': {}, 'id': 'call_cmiEuruOXvk4aglJaZ3YIItN', 'type': 'tool_call'}], usage_metadata={'input_tokens': 162, 'output_tokens': 15, 'total_tokens': 177, 'input_token_details': {'audio': 0, 'cache_read': 0}, 'output_token_details': {'audio': 0, 'reasoning': 0}}), ToolMessage(content='Successfully transferred to netfast_expert', name='transfer_to_netfast_expert', id='4162cc1b-5d01-42e5-9dce-692caf0c339b', tool_call_id='call_cmiEuruOXvk4aglJaZ3YIItN'), AIMessage(content='', additional_kwargs={'tool_calls': [{'id': 'call_9abRsQHMYGhd5DqB1fx0ycPV', 'function': {'arguments': '{\"query\":\"available plans of Netfast internet company\"}', 'name': 'rag_search'}, 'type': 'function'}], 'refusal': None}, response_metadata={'token_usage': {'completion_tokens': 22, 'prompt_tokens': 103, 'total_tokens': 125, 'completion_tokens_details': {'accepted_prediction_tokens': 0, 'audio_tokens': 0, 'reasoning_tokens': 0, 'rejected_prediction_tokens': 0}, 'prompt_tokens_details': {'audio_tokens': 0, 'cached_tokens': 0}}, 'model_name': 'gpt-4o-2024-08-06', 'system_fingerprint': 'fp_432e014d75', 'id': 'chatcmpl-BKyeZbflmZaV76oHFTukQOLmIrxdl', 'finish_reason': 'tool_calls', 'logprobs': None}, name='netfast_expert', id='run-45036b85-2695-49f1-abf8-09c0f32accd1-0', tool_calls=[{'name': 'rag_search', 'args': {'query': 'available plans of Netfast internet company'}, 'id': 'call_9abRsQHMYGhd5DqB1fx0ycPV', 'type': 'tool_call'}], usage_metadata={'input_tokens': 103, 'output_tokens': 22, 'total_tokens': 125, 'input_token_details': {'audio': 0, 'cache_read': 0}, 'output_token_details': {'audio': 0, 'reasoning': 0}}), ToolMessage(content='According to the document, NetFast offers three internet plans:\\n\\n1. Basic Plan - $29.99/month - Speed: 50 Mbps\\n2. Standard Plan - $49.99/month - Speed: 150 Mbps\\n3. Premium Plan - $79.99/month - Speed: 500 Mbps', name='rag_search', id='26c19953-983d-4f04-8d61-a52db8ed4f1d', tool_call_id='call_9abRsQHMYGhd5DqB1fx0ycPV'), AIMessage(content='NetFast offers the following internet plans:\\n\\n1. **Basic Plan** - $29.99/month with a speed of 50 Mbps.\\n2. **Standard Plan** - $49.99/month with a speed of 150 Mbps.\\n3. **Premium Plan** - $79.99/month with a speed of 500 Mbps.', additional_kwargs={'refusal': None}, response_metadata={'token_usage': {'completion_tokens': 70, 'prompt_tokens': 199, 'total_tokens': 269, 'completion_tokens_details': {'accepted_prediction_tokens': 0, 'audio_tokens': 0, 'reasoning_tokens': 0, 'rejected_prediction_tokens': 0}, 'prompt_tokens_details': {'audio_tokens': 0, 'cached_tokens': 0}}, 'model_name': 'gpt-4o-2024-08-06', 'system_fingerprint': 'fp_432e014d75', 'id': 'chatcmpl-BKyegWU3NPmfMhtwJAQtDh0H32v7G', 'finish_reason': 'stop', 'logprobs': None}, name='netfast_expert', id='run-6fd0e7e0-6c9c-4c03-ac1b-d6e87154cc8f-0', usage_metadata={'input_tokens': 199, 'output_tokens': 70, 'total_tokens': 269, 'input_token_details': {'audio': 0, 'cache_read': 0}, 'output_token_details': {'audio': 0, 'reasoning': 0}}), AIMessage(content='Transferring back to supervisor', additional_kwargs={}, response_metadata={'__is_handoff_back': True}, name='netfast_expert', id='cd7b2234-acd4-403a-b6ed-b7a33ea34fda', tool_calls=[{'name': 'transfer_back_to_supervisor', 'args': {}, 'id': '6d7fb6c3-64d3-4011-bf42-0f9d4b18d9c4', 'type': 'tool_call'}]), ToolMessage(content='Successfully transferred back to supervisor', name='transfer_back_to_supervisor', id='46a3fffd-78d1-4b73-9d1e-5e35f4c51156', tool_call_id='6d7fb6c3-64d3-4011-bf42-0f9d4b18d9c4')]}}\n"
     ]
    },
    {
     "name": "stderr",
     "output_type": "stream",
     "text": [
      "INFO:httpx:HTTP Request: POST https://api.openai.com/v1/chat/completions \"HTTP/1.1 200 OK\"\n"
     ]
    },
    {
     "name": "stdout",
     "output_type": "stream",
     "text": [
      "{'supervisor': {'messages': [HumanMessage(content='WHAT ARE THE AVAILABLE PLANS', additional_kwargs={}, response_metadata={}, id='6ef34942-060a-470c-ac64-7214f935a901'), AIMessage(content='', additional_kwargs={'tool_calls': [{'id': 'call_cmiEuruOXvk4aglJaZ3YIItN', 'function': {'arguments': '{}', 'name': 'transfer_to_netfast_expert'}, 'type': 'function'}], 'refusal': None}, response_metadata={'token_usage': {'completion_tokens': 15, 'prompt_tokens': 162, 'total_tokens': 177, 'completion_tokens_details': {'accepted_prediction_tokens': 0, 'audio_tokens': 0, 'reasoning_tokens': 0, 'rejected_prediction_tokens': 0}, 'prompt_tokens_details': {'audio_tokens': 0, 'cached_tokens': 0}}, 'model_name': 'gpt-4o-2024-08-06', 'system_fingerprint': 'fp_b7faba9ef5', 'id': 'chatcmpl-BKyeYTOMwQQ8B4nd6v4V5ZC8oG86K', 'finish_reason': 'tool_calls', 'logprobs': None}, name='supervisor', id='run-95d133e9-a705-48ae-b753-cab1082b1a72-0', tool_calls=[{'name': 'transfer_to_netfast_expert', 'args': {}, 'id': 'call_cmiEuruOXvk4aglJaZ3YIItN', 'type': 'tool_call'}], usage_metadata={'input_tokens': 162, 'output_tokens': 15, 'total_tokens': 177, 'input_token_details': {'audio': 0, 'cache_read': 0}, 'output_token_details': {'audio': 0, 'reasoning': 0}}), ToolMessage(content='Successfully transferred to netfast_expert', name='transfer_to_netfast_expert', id='4162cc1b-5d01-42e5-9dce-692caf0c339b', tool_call_id='call_cmiEuruOXvk4aglJaZ3YIItN'), AIMessage(content='', additional_kwargs={'tool_calls': [{'id': 'call_9abRsQHMYGhd5DqB1fx0ycPV', 'function': {'arguments': '{\"query\":\"available plans of Netfast internet company\"}', 'name': 'rag_search'}, 'type': 'function'}], 'refusal': None}, response_metadata={'token_usage': {'completion_tokens': 22, 'prompt_tokens': 103, 'total_tokens': 125, 'completion_tokens_details': {'accepted_prediction_tokens': 0, 'audio_tokens': 0, 'reasoning_tokens': 0, 'rejected_prediction_tokens': 0}, 'prompt_tokens_details': {'audio_tokens': 0, 'cached_tokens': 0}}, 'model_name': 'gpt-4o-2024-08-06', 'system_fingerprint': 'fp_432e014d75', 'id': 'chatcmpl-BKyeZbflmZaV76oHFTukQOLmIrxdl', 'finish_reason': 'tool_calls', 'logprobs': None}, name='netfast_expert', id='run-45036b85-2695-49f1-abf8-09c0f32accd1-0', tool_calls=[{'name': 'rag_search', 'args': {'query': 'available plans of Netfast internet company'}, 'id': 'call_9abRsQHMYGhd5DqB1fx0ycPV', 'type': 'tool_call'}], usage_metadata={'input_tokens': 103, 'output_tokens': 22, 'total_tokens': 125, 'input_token_details': {'audio': 0, 'cache_read': 0}, 'output_token_details': {'audio': 0, 'reasoning': 0}}), ToolMessage(content='According to the document, NetFast offers three internet plans:\\n\\n1. Basic Plan - $29.99/month - Speed: 50 Mbps\\n2. Standard Plan - $49.99/month - Speed: 150 Mbps\\n3. Premium Plan - $79.99/month - Speed: 500 Mbps', name='rag_search', id='26c19953-983d-4f04-8d61-a52db8ed4f1d', tool_call_id='call_9abRsQHMYGhd5DqB1fx0ycPV'), AIMessage(content='NetFast offers the following internet plans:\\n\\n1. **Basic Plan** - $29.99/month with a speed of 50 Mbps.\\n2. **Standard Plan** - $49.99/month with a speed of 150 Mbps.\\n3. **Premium Plan** - $79.99/month with a speed of 500 Mbps.', additional_kwargs={'refusal': None}, response_metadata={'token_usage': {'completion_tokens': 70, 'prompt_tokens': 199, 'total_tokens': 269, 'completion_tokens_details': {'accepted_prediction_tokens': 0, 'audio_tokens': 0, 'reasoning_tokens': 0, 'rejected_prediction_tokens': 0}, 'prompt_tokens_details': {'audio_tokens': 0, 'cached_tokens': 0}}, 'model_name': 'gpt-4o-2024-08-06', 'system_fingerprint': 'fp_432e014d75', 'id': 'chatcmpl-BKyegWU3NPmfMhtwJAQtDh0H32v7G', 'finish_reason': 'stop', 'logprobs': None}, name='netfast_expert', id='run-6fd0e7e0-6c9c-4c03-ac1b-d6e87154cc8f-0', usage_metadata={'input_tokens': 199, 'output_tokens': 70, 'total_tokens': 269, 'input_token_details': {'audio': 0, 'cache_read': 0}, 'output_token_details': {'audio': 0, 'reasoning': 0}}), AIMessage(content='Transferring back to supervisor', additional_kwargs={}, response_metadata={'__is_handoff_back': True}, name='netfast_expert', id='cd7b2234-acd4-403a-b6ed-b7a33ea34fda', tool_calls=[{'name': 'transfer_back_to_supervisor', 'args': {}, 'id': '6d7fb6c3-64d3-4011-bf42-0f9d4b18d9c4', 'type': 'tool_call'}]), ToolMessage(content='Successfully transferred back to supervisor', name='transfer_back_to_supervisor', id='46a3fffd-78d1-4b73-9d1e-5e35f4c51156', tool_call_id='6d7fb6c3-64d3-4011-bf42-0f9d4b18d9c4'), AIMessage(content='NetFast offers the following internet plans:\\n\\n1. **Basic Plan** - $29.99/month with a speed of 50 Mbps.\\n2. **Standard Plan** - $49.99/month with a speed of 150 Mbps.\\n3. **Premium Plan** - $79.99/month with a speed of 500 Mbps.', additional_kwargs={'refusal': None}, response_metadata={'token_usage': {'completion_tokens': 70, 'prompt_tokens': 420, 'total_tokens': 490, 'completion_tokens_details': {'accepted_prediction_tokens': 0, 'audio_tokens': 0, 'reasoning_tokens': 0, 'rejected_prediction_tokens': 0}, 'prompt_tokens_details': {'audio_tokens': 0, 'cached_tokens': 0}}, 'model_name': 'gpt-4o-2024-08-06', 'system_fingerprint': 'fp_b7faba9ef5', 'id': 'chatcmpl-BKyehKqssC8sEnsErnorw98HvarsW', 'finish_reason': 'stop', 'logprobs': None}, name='supervisor', id='run-9b715b76-b243-4a64-a64b-4ec3d29174e8-0', usage_metadata={'input_tokens': 420, 'output_tokens': 70, 'total_tokens': 490, 'input_token_details': {'audio': 0, 'cache_read': 0}, 'output_token_details': {'audio': 0, 'reasoning': 0}})]}}\n"
     ]
    }
   ],
   "source": [
    "app = workflow.compile()\n",
    "\n",
    "# Collect all steps\n",
    "data = 1\n",
    "for step in app.stream({\n",
    "    \"messages\": [\n",
    "        {\n",
    "            \"role\": \"user\",\n",
    "            \"content\": \"WHAT ARE THE AVAILABLE PLANS\"\n",
    "        }\n",
    "    ]\n",
    "}):\n",
    "    print(step) \n",
    "    data = step       # Live output\n",
    "    "
   ]
  },
  {
   "cell_type": "code",
   "execution_count": 11,
   "metadata": {},
   "outputs": [
    {
     "name": "stdout",
     "output_type": "stream",
     "text": [
      "================================\u001b[1m Human Message \u001b[0m=================================\n",
      "\n",
      "WHAT ARE THE AVAILABLE PLANS\n",
      "==================================\u001b[1m Ai Message \u001b[0m==================================\n",
      "Name: supervisor\n",
      "Tool Calls:\n",
      "  transfer_to_netfast_expert (call_cmiEuruOXvk4aglJaZ3YIItN)\n",
      " Call ID: call_cmiEuruOXvk4aglJaZ3YIItN\n",
      "  Args:\n",
      "=================================\u001b[1m Tool Message \u001b[0m=================================\n",
      "Name: transfer_to_netfast_expert\n",
      "\n",
      "Successfully transferred to netfast_expert\n",
      "==================================\u001b[1m Ai Message \u001b[0m==================================\n",
      "Name: netfast_expert\n",
      "Tool Calls:\n",
      "  rag_search (call_9abRsQHMYGhd5DqB1fx0ycPV)\n",
      " Call ID: call_9abRsQHMYGhd5DqB1fx0ycPV\n",
      "  Args:\n",
      "    query: available plans of Netfast internet company\n",
      "=================================\u001b[1m Tool Message \u001b[0m=================================\n",
      "Name: rag_search\n",
      "\n",
      "According to the document, NetFast offers three internet plans:\n",
      "\n",
      "1. Basic Plan - $29.99/month - Speed: 50 Mbps\n",
      "2. Standard Plan - $49.99/month - Speed: 150 Mbps\n",
      "3. Premium Plan - $79.99/month - Speed: 500 Mbps\n",
      "==================================\u001b[1m Ai Message \u001b[0m==================================\n",
      "Name: netfast_expert\n",
      "\n",
      "NetFast offers the following internet plans:\n",
      "\n",
      "1. **Basic Plan** - $29.99/month with a speed of 50 Mbps.\n",
      "2. **Standard Plan** - $49.99/month with a speed of 150 Mbps.\n",
      "3. **Premium Plan** - $79.99/month with a speed of 500 Mbps.\n",
      "==================================\u001b[1m Ai Message \u001b[0m==================================\n",
      "Name: netfast_expert\n",
      "\n",
      "Transferring back to supervisor\n",
      "Tool Calls:\n",
      "  transfer_back_to_supervisor (6d7fb6c3-64d3-4011-bf42-0f9d4b18d9c4)\n",
      " Call ID: 6d7fb6c3-64d3-4011-bf42-0f9d4b18d9c4\n",
      "  Args:\n",
      "=================================\u001b[1m Tool Message \u001b[0m=================================\n",
      "Name: transfer_back_to_supervisor\n",
      "\n",
      "Successfully transferred back to supervisor\n",
      "==================================\u001b[1m Ai Message \u001b[0m==================================\n",
      "Name: supervisor\n",
      "\n",
      "NetFast offers the following internet plans:\n",
      "\n",
      "1. **Basic Plan** - $29.99/month with a speed of 50 Mbps.\n",
      "2. **Standard Plan** - $49.99/month with a speed of 150 Mbps.\n",
      "3. **Premium Plan** - $79.99/month with a speed of 500 Mbps.\n"
     ]
    }
   ],
   "source": [
    "for m in data['supervisor']['messages']:\n",
    "    m.pretty_print()"
   ]
  }
 ],
 "metadata": {
  "kernelspec": {
   "display_name": ".venv",
   "language": "python",
   "name": "python3"
  },
  "language_info": {
   "codemirror_mode": {
    "name": "ipython",
    "version": 3
   },
   "file_extension": ".py",
   "mimetype": "text/x-python",
   "name": "python",
   "nbconvert_exporter": "python",
   "pygments_lexer": "ipython3",
   "version": "3.10.11"
  }
 },
 "nbformat": 4,
 "nbformat_minor": 2
}
